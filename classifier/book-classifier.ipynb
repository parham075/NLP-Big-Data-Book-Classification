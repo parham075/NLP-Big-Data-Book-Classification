{
 "cells": [
  {
   "cell_type": "markdown",
   "source": [
    "# The Prediction Task\n",
    "In this notebook, we will be using the dataset gathered by our [data scraping script](https://github.com/shkhaksar/book-classification) merged with a dataset from [Kaggle](https://www.kaggle.com/mdhamani/goodreads-books-100k)\n",
    "\n",
    "This dataset contains book summaries for 101K books extracted from [Goodreads](https://www.goodreads.com/) website.\n",
    "\n",
    "The classification goal is, given a new book, to predict the book belongs to which category of books.\n",
    "\n",
    "## 1. Data Acquisition\n",
    "This is the first step we need to accomplish before going any further. The dataset will be downloaded and loaded to DBFS."
   ],
   "metadata": {
    "collapsed": false,
    "pycharm": {
     "name": "#%% md\n"
    }
   }
  },
  {
   "cell_type": "code",
   "execution_count": null,
   "outputs": [],
   "source": [
    "%sh wget -P /tmp https://github.com/gtolomei/big-data-computing/raw/master/datasets/bank-marketing.csv.bz2"
   ],
   "metadata": {
    "collapsed": false,
    "pycharm": {
     "name": "#%%\n"
    }
   }
  },
  {
   "cell_type": "code",
   "execution_count": null,
   "outputs": [],
   "source": [
    "%fs ls file:/tmp/"
   ],
   "metadata": {
    "collapsed": false,
    "pycharm": {
     "name": "#%%\n"
    }
   }
  }
 ],
 "metadata": {
  "kernelspec": {
   "display_name": "Python 3",
   "language": "python",
   "name": "python3"
  },
  "language_info": {
   "codemirror_mode": {
    "name": "ipython",
    "version": 2
   },
   "file_extension": ".py",
   "mimetype": "text/x-python",
   "name": "python",
   "nbconvert_exporter": "python",
   "pygments_lexer": "ipython2",
   "version": "2.7.6"
  }
 },
 "nbformat": 4,
 "nbformat_minor": 0
}